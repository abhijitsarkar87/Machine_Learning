{
 "cells": [
  {
   "cell_type": "markdown",
   "id": "ab41b984",
   "metadata": {},
   "source": [
    "### To remove multicollinearty within columns: We use VIF "
   ]
  },
  {
   "cell_type": "markdown",
   "id": "4a8732eb",
   "metadata": {},
   "source": [
    "### Source\n",
    "\n",
    "#https://www.statsmodels.org/stable/generated/statsmodels.stats.outliers_influence.variance_inflation_factor.html"
   ]
  },
  {
   "cell_type": "code",
   "execution_count": 2,
   "id": "c6437a2d",
   "metadata": {},
   "outputs": [],
   "source": [
    "#import statsmodel.api as sm\n",
    "import pandas as pd\n",
    "import scipy.stats\n",
    "from statsmodels.stats.outliers_influence import variance_inflation_factor"
   ]
  },
  {
   "cell_type": "code",
   "execution_count": 3,
   "id": "11b49a84",
   "metadata": {},
   "outputs": [],
   "source": [
    "def calc_vif(dataset_name):\n",
    "    vif=pd.DataFrame()# create data frame named vif\n",
    "    # add columns\n",
    "    vif['Variables']=dataset_name.columns # insert column names in variable columns\n",
    "    vif['VIF FACTOR']=[variance_inflation_factor(dataset_name.values,i) for i in range(dataset_name.shape[1])]# for i range(column_size)\n",
    "    return vif"
   ]
  }
 ],
 "metadata": {
  "kernelspec": {
   "display_name": "Python 3 (ipykernel)",
   "language": "python",
   "name": "python3"
  },
  "language_info": {
   "codemirror_mode": {
    "name": "ipython",
    "version": 3
   },
   "file_extension": ".py",
   "mimetype": "text/x-python",
   "name": "python",
   "nbconvert_exporter": "python",
   "pygments_lexer": "ipython3",
   "version": "3.11.4"
  }
 },
 "nbformat": 4,
 "nbformat_minor": 5
}
