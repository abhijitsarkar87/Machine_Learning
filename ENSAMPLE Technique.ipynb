{
 "cells": [
  {
   "cell_type": "markdown",
   "id": "0c06b4da",
   "metadata": {},
   "source": [
    "# Ensemble Technique"
   ]
  },
  {
   "cell_type": "raw",
   "id": "e8029113",
   "metadata": {},
   "source": [
    "The goal of ensemble methods is to combine the predictions of several base estimators built with a given learning algorithm in order to improve generalizability / robustness over a single estimator.\n",
    "\n",
    "~ Two families of ensemble methods are usually distinguished:\n",
    "\n",
    "In averaging methods, the driving principle is to build several estimators independently and then to average their predictions. On average, the combined estimator is usually better than any of the single base estimator because its variance is reduced.\n",
    "\n",
    "Examples: Bagging methods, Forests of randomized trees, …\n",
    "\n",
    "By contrast, in boosting methods, base estimators are built sequentially and one tries to reduce the bias of the combined estimator. The motivation is to combine several weak models to produce a powerful ensemble.\n",
    "\n",
    "Examples: AdaBoost, Gradient Tree Boosting, …\n",
    "\n",
    "\n",
    "----------------------------------\n",
    "## Two Types:\n",
    "-----------------------------------\n",
    "\n",
    "### 1. Bagging(Means learningg in Parallel)\n",
    "        \n",
    "        - Data is divided in subset of data, These data sets are learned by the different different Models\n",
    "        - These models will give the Accuracy mean values.\n",
    "        - Then Accuracy mean of those mean would be calculated.\n",
    "\n",
    "### 2. Boosting(Sequential Learning)\n",
    "\n",
    "        - The data set is learned the model and the data is boosted and sent to another model for learning.same follows till\n",
    "        the data in the dataset ends\n"
   ]
  },
  {
   "cell_type": "markdown",
   "id": "f07d79de",
   "metadata": {},
   "source": [
    "## These models can be used both for regression and classification \n",
    "\n",
    "1. Random Forest # here base estimator is dtc -{so Homogenious Model} #estimator_DecisionTreeClassifier\n",
    "2. Extra Trees\n",
    "\n",
    "## For Boosting \n",
    "\n",
    "1. Ada Boost \n",
    "2. Gradient Boost \n",
    "3. Xgboost\n",
    "\n",
    "--------\n",
    "**NOTE: They are Homogenious Model**\n",
    "\n",
    "----------------"
   ]
  },
  {
   "cell_type": "markdown",
   "id": "2f4f315f",
   "metadata": {},
   "source": [
    "# Random Forest Classifier\n",
    "\n",
    "**sklearn.ensemble.RandomForestClassifier**(n_estimators=100, *, criterion='gini', max_depth=None, min_samples_split=2, min_samples_leaf=1, min_weight_fraction_leaf=0.0, max_features='sqrt', max_leaf_nodes=None, min_impurity_decrease=0.0, bootstrap=True, oob_score=False, n_jobs=None, random_state=None, verbose=0, warm_start=False, class_weight=None, ccp_alpha=0.0, max_samples=None)\n",
    "\n",
    "**Extra Trees** : Used where datset is very big datasets \n",
    "\n",
    "1. n_estimators: number of Trees to be created"
   ]
  },
  {
   "cell_type": "code",
   "execution_count": 1,
   "id": "dd4d4b03",
   "metadata": {},
   "outputs": [],
   "source": [
    "# Import lib\n",
    "import pandas as pd\n",
    "import numpy as np\n",
    "import sklearn\n",
    "from sklearn.model_selection import train_test_split \n",
    "from sklearn.metrics import accuracy_score, classification_report, confusion_matrix\n",
    "from sklearn.ensemble import AdaBoostClassifier, RandomForestClassifier, GradientBoostingClassifier, ExtraTreesClassifier\n",
    "\n",
    "import warnings\n",
    "warnings.filterwarnings(\"ignore\")"
   ]
  },
  {
   "cell_type": "code",
   "execution_count": 2,
   "id": "4cc4c69e",
   "metadata": {},
   "outputs": [
    {
     "data": {
      "text/plain": [
       "{'data': array([[5.1, 3.5, 1.4, 0.2],\n",
       "        [4.9, 3. , 1.4, 0.2],\n",
       "        [4.7, 3.2, 1.3, 0.2],\n",
       "        [4.6, 3.1, 1.5, 0.2],\n",
       "        [5. , 3.6, 1.4, 0.2],\n",
       "        [5.4, 3.9, 1.7, 0.4],\n",
       "        [4.6, 3.4, 1.4, 0.3],\n",
       "        [5. , 3.4, 1.5, 0.2],\n",
       "        [4.4, 2.9, 1.4, 0.2],\n",
       "        [4.9, 3.1, 1.5, 0.1],\n",
       "        [5.4, 3.7, 1.5, 0.2],\n",
       "        [4.8, 3.4, 1.6, 0.2],\n",
       "        [4.8, 3. , 1.4, 0.1],\n",
       "        [4.3, 3. , 1.1, 0.1],\n",
       "        [5.8, 4. , 1.2, 0.2],\n",
       "        [5.7, 4.4, 1.5, 0.4],\n",
       "        [5.4, 3.9, 1.3, 0.4],\n",
       "        [5.1, 3.5, 1.4, 0.3],\n",
       "        [5.7, 3.8, 1.7, 0.3],\n",
       "        [5.1, 3.8, 1.5, 0.3],\n",
       "        [5.4, 3.4, 1.7, 0.2],\n",
       "        [5.1, 3.7, 1.5, 0.4],\n",
       "        [4.6, 3.6, 1. , 0.2],\n",
       "        [5.1, 3.3, 1.7, 0.5],\n",
       "        [4.8, 3.4, 1.9, 0.2],\n",
       "        [5. , 3. , 1.6, 0.2],\n",
       "        [5. , 3.4, 1.6, 0.4],\n",
       "        [5.2, 3.5, 1.5, 0.2],\n",
       "        [5.2, 3.4, 1.4, 0.2],\n",
       "        [4.7, 3.2, 1.6, 0.2],\n",
       "        [4.8, 3.1, 1.6, 0.2],\n",
       "        [5.4, 3.4, 1.5, 0.4],\n",
       "        [5.2, 4.1, 1.5, 0.1],\n",
       "        [5.5, 4.2, 1.4, 0.2],\n",
       "        [4.9, 3.1, 1.5, 0.2],\n",
       "        [5. , 3.2, 1.2, 0.2],\n",
       "        [5.5, 3.5, 1.3, 0.2],\n",
       "        [4.9, 3.6, 1.4, 0.1],\n",
       "        [4.4, 3. , 1.3, 0.2],\n",
       "        [5.1, 3.4, 1.5, 0.2],\n",
       "        [5. , 3.5, 1.3, 0.3],\n",
       "        [4.5, 2.3, 1.3, 0.3],\n",
       "        [4.4, 3.2, 1.3, 0.2],\n",
       "        [5. , 3.5, 1.6, 0.6],\n",
       "        [5.1, 3.8, 1.9, 0.4],\n",
       "        [4.8, 3. , 1.4, 0.3],\n",
       "        [5.1, 3.8, 1.6, 0.2],\n",
       "        [4.6, 3.2, 1.4, 0.2],\n",
       "        [5.3, 3.7, 1.5, 0.2],\n",
       "        [5. , 3.3, 1.4, 0.2],\n",
       "        [7. , 3.2, 4.7, 1.4],\n",
       "        [6.4, 3.2, 4.5, 1.5],\n",
       "        [6.9, 3.1, 4.9, 1.5],\n",
       "        [5.5, 2.3, 4. , 1.3],\n",
       "        [6.5, 2.8, 4.6, 1.5],\n",
       "        [5.7, 2.8, 4.5, 1.3],\n",
       "        [6.3, 3.3, 4.7, 1.6],\n",
       "        [4.9, 2.4, 3.3, 1. ],\n",
       "        [6.6, 2.9, 4.6, 1.3],\n",
       "        [5.2, 2.7, 3.9, 1.4],\n",
       "        [5. , 2. , 3.5, 1. ],\n",
       "        [5.9, 3. , 4.2, 1.5],\n",
       "        [6. , 2.2, 4. , 1. ],\n",
       "        [6.1, 2.9, 4.7, 1.4],\n",
       "        [5.6, 2.9, 3.6, 1.3],\n",
       "        [6.7, 3.1, 4.4, 1.4],\n",
       "        [5.6, 3. , 4.5, 1.5],\n",
       "        [5.8, 2.7, 4.1, 1. ],\n",
       "        [6.2, 2.2, 4.5, 1.5],\n",
       "        [5.6, 2.5, 3.9, 1.1],\n",
       "        [5.9, 3.2, 4.8, 1.8],\n",
       "        [6.1, 2.8, 4. , 1.3],\n",
       "        [6.3, 2.5, 4.9, 1.5],\n",
       "        [6.1, 2.8, 4.7, 1.2],\n",
       "        [6.4, 2.9, 4.3, 1.3],\n",
       "        [6.6, 3. , 4.4, 1.4],\n",
       "        [6.8, 2.8, 4.8, 1.4],\n",
       "        [6.7, 3. , 5. , 1.7],\n",
       "        [6. , 2.9, 4.5, 1.5],\n",
       "        [5.7, 2.6, 3.5, 1. ],\n",
       "        [5.5, 2.4, 3.8, 1.1],\n",
       "        [5.5, 2.4, 3.7, 1. ],\n",
       "        [5.8, 2.7, 3.9, 1.2],\n",
       "        [6. , 2.7, 5.1, 1.6],\n",
       "        [5.4, 3. , 4.5, 1.5],\n",
       "        [6. , 3.4, 4.5, 1.6],\n",
       "        [6.7, 3.1, 4.7, 1.5],\n",
       "        [6.3, 2.3, 4.4, 1.3],\n",
       "        [5.6, 3. , 4.1, 1.3],\n",
       "        [5.5, 2.5, 4. , 1.3],\n",
       "        [5.5, 2.6, 4.4, 1.2],\n",
       "        [6.1, 3. , 4.6, 1.4],\n",
       "        [5.8, 2.6, 4. , 1.2],\n",
       "        [5. , 2.3, 3.3, 1. ],\n",
       "        [5.6, 2.7, 4.2, 1.3],\n",
       "        [5.7, 3. , 4.2, 1.2],\n",
       "        [5.7, 2.9, 4.2, 1.3],\n",
       "        [6.2, 2.9, 4.3, 1.3],\n",
       "        [5.1, 2.5, 3. , 1.1],\n",
       "        [5.7, 2.8, 4.1, 1.3],\n",
       "        [6.3, 3.3, 6. , 2.5],\n",
       "        [5.8, 2.7, 5.1, 1.9],\n",
       "        [7.1, 3. , 5.9, 2.1],\n",
       "        [6.3, 2.9, 5.6, 1.8],\n",
       "        [6.5, 3. , 5.8, 2.2],\n",
       "        [7.6, 3. , 6.6, 2.1],\n",
       "        [4.9, 2.5, 4.5, 1.7],\n",
       "        [7.3, 2.9, 6.3, 1.8],\n",
       "        [6.7, 2.5, 5.8, 1.8],\n",
       "        [7.2, 3.6, 6.1, 2.5],\n",
       "        [6.5, 3.2, 5.1, 2. ],\n",
       "        [6.4, 2.7, 5.3, 1.9],\n",
       "        [6.8, 3. , 5.5, 2.1],\n",
       "        [5.7, 2.5, 5. , 2. ],\n",
       "        [5.8, 2.8, 5.1, 2.4],\n",
       "        [6.4, 3.2, 5.3, 2.3],\n",
       "        [6.5, 3. , 5.5, 1.8],\n",
       "        [7.7, 3.8, 6.7, 2.2],\n",
       "        [7.7, 2.6, 6.9, 2.3],\n",
       "        [6. , 2.2, 5. , 1.5],\n",
       "        [6.9, 3.2, 5.7, 2.3],\n",
       "        [5.6, 2.8, 4.9, 2. ],\n",
       "        [7.7, 2.8, 6.7, 2. ],\n",
       "        [6.3, 2.7, 4.9, 1.8],\n",
       "        [6.7, 3.3, 5.7, 2.1],\n",
       "        [7.2, 3.2, 6. , 1.8],\n",
       "        [6.2, 2.8, 4.8, 1.8],\n",
       "        [6.1, 3. , 4.9, 1.8],\n",
       "        [6.4, 2.8, 5.6, 2.1],\n",
       "        [7.2, 3. , 5.8, 1.6],\n",
       "        [7.4, 2.8, 6.1, 1.9],\n",
       "        [7.9, 3.8, 6.4, 2. ],\n",
       "        [6.4, 2.8, 5.6, 2.2],\n",
       "        [6.3, 2.8, 5.1, 1.5],\n",
       "        [6.1, 2.6, 5.6, 1.4],\n",
       "        [7.7, 3. , 6.1, 2.3],\n",
       "        [6.3, 3.4, 5.6, 2.4],\n",
       "        [6.4, 3.1, 5.5, 1.8],\n",
       "        [6. , 3. , 4.8, 1.8],\n",
       "        [6.9, 3.1, 5.4, 2.1],\n",
       "        [6.7, 3.1, 5.6, 2.4],\n",
       "        [6.9, 3.1, 5.1, 2.3],\n",
       "        [5.8, 2.7, 5.1, 1.9],\n",
       "        [6.8, 3.2, 5.9, 2.3],\n",
       "        [6.7, 3.3, 5.7, 2.5],\n",
       "        [6.7, 3. , 5.2, 2.3],\n",
       "        [6.3, 2.5, 5. , 1.9],\n",
       "        [6.5, 3. , 5.2, 2. ],\n",
       "        [6.2, 3.4, 5.4, 2.3],\n",
       "        [5.9, 3. , 5.1, 1.8]]),\n",
       " 'target': array([0, 0, 0, 0, 0, 0, 0, 0, 0, 0, 0, 0, 0, 0, 0, 0, 0, 0, 0, 0, 0, 0,\n",
       "        0, 0, 0, 0, 0, 0, 0, 0, 0, 0, 0, 0, 0, 0, 0, 0, 0, 0, 0, 0, 0, 0,\n",
       "        0, 0, 0, 0, 0, 0, 1, 1, 1, 1, 1, 1, 1, 1, 1, 1, 1, 1, 1, 1, 1, 1,\n",
       "        1, 1, 1, 1, 1, 1, 1, 1, 1, 1, 1, 1, 1, 1, 1, 1, 1, 1, 1, 1, 1, 1,\n",
       "        1, 1, 1, 1, 1, 1, 1, 1, 1, 1, 1, 1, 2, 2, 2, 2, 2, 2, 2, 2, 2, 2,\n",
       "        2, 2, 2, 2, 2, 2, 2, 2, 2, 2, 2, 2, 2, 2, 2, 2, 2, 2, 2, 2, 2, 2,\n",
       "        2, 2, 2, 2, 2, 2, 2, 2, 2, 2, 2, 2, 2, 2, 2, 2, 2, 2]),\n",
       " 'frame': None,\n",
       " 'target_names': array(['setosa', 'versicolor', 'virginica'], dtype='<U10'),\n",
       " 'DESCR': '.. _iris_dataset:\\n\\nIris plants dataset\\n--------------------\\n\\n**Data Set Characteristics:**\\n\\n    :Number of Instances: 150 (50 in each of three classes)\\n    :Number of Attributes: 4 numeric, predictive attributes and the class\\n    :Attribute Information:\\n        - sepal length in cm\\n        - sepal width in cm\\n        - petal length in cm\\n        - petal width in cm\\n        - class:\\n                - Iris-Setosa\\n                - Iris-Versicolour\\n                - Iris-Virginica\\n                \\n    :Summary Statistics:\\n\\n    ============== ==== ==== ======= ===== ====================\\n                    Min  Max   Mean    SD   Class Correlation\\n    ============== ==== ==== ======= ===== ====================\\n    sepal length:   4.3  7.9   5.84   0.83    0.7826\\n    sepal width:    2.0  4.4   3.05   0.43   -0.4194\\n    petal length:   1.0  6.9   3.76   1.76    0.9490  (high!)\\n    petal width:    0.1  2.5   1.20   0.76    0.9565  (high!)\\n    ============== ==== ==== ======= ===== ====================\\n\\n    :Missing Attribute Values: None\\n    :Class Distribution: 33.3% for each of 3 classes.\\n    :Creator: R.A. Fisher\\n    :Donor: Michael Marshall (MARSHALL%PLU@io.arc.nasa.gov)\\n    :Date: July, 1988\\n\\nThe famous Iris database, first used by Sir R.A. Fisher. The dataset is taken\\nfrom Fisher\\'s paper. Note that it\\'s the same as in R, but not as in the UCI\\nMachine Learning Repository, which has two wrong data points.\\n\\nThis is perhaps the best known database to be found in the\\npattern recognition literature.  Fisher\\'s paper is a classic in the field and\\nis referenced frequently to this day.  (See Duda & Hart, for example.)  The\\ndata set contains 3 classes of 50 instances each, where each class refers to a\\ntype of iris plant.  One class is linearly separable from the other 2; the\\nlatter are NOT linearly separable from each other.\\n\\n.. topic:: References\\n\\n   - Fisher, R.A. \"The use of multiple measurements in taxonomic problems\"\\n     Annual Eugenics, 7, Part II, 179-188 (1936); also in \"Contributions to\\n     Mathematical Statistics\" (John Wiley, NY, 1950).\\n   - Duda, R.O., & Hart, P.E. (1973) Pattern Classification and Scene Analysis.\\n     (Q327.D83) John Wiley & Sons.  ISBN 0-471-22361-1.  See page 218.\\n   - Dasarathy, B.V. (1980) \"Nosing Around the Neighborhood: A New System\\n     Structure and Classification Rule for Recognition in Partially Exposed\\n     Environments\".  IEEE Transactions on Pattern Analysis and Machine\\n     Intelligence, Vol. PAMI-2, No. 1, 67-71.\\n   - Gates, G.W. (1972) \"The Reduced Nearest Neighbor Rule\".  IEEE Transactions\\n     on Information Theory, May 1972, 431-433.\\n   - See also: 1988 MLC Proceedings, 54-64.  Cheeseman et al\"s AUTOCLASS II\\n     conceptual clustering system finds 3 classes in the data.\\n   - Many, many more ...',\n",
       " 'feature_names': ['sepal length (cm)',\n",
       "  'sepal width (cm)',\n",
       "  'petal length (cm)',\n",
       "  'petal width (cm)'],\n",
       " 'filename': 'iris.csv',\n",
       " 'data_module': 'sklearn.datasets.data'}"
      ]
     },
     "execution_count": 2,
     "metadata": {},
     "output_type": "execute_result"
    }
   ],
   "source": [
    "from sklearn.datasets import load_iris\n",
    "\n",
    "ds=load_iris()\n",
    "ds"
   ]
  },
  {
   "cell_type": "code",
   "execution_count": 3,
   "id": "7eb8b204",
   "metadata": {},
   "outputs": [
    {
     "data": {
      "text/plain": [
       "dict_keys(['data', 'target', 'frame', 'target_names', 'DESCR', 'feature_names', 'filename', 'data_module'])"
      ]
     },
     "execution_count": 3,
     "metadata": {},
     "output_type": "execute_result"
    }
   ],
   "source": [
    "ds.keys()"
   ]
  },
  {
   "cell_type": "code",
   "execution_count": 4,
   "id": "a8f535ff",
   "metadata": {},
   "outputs": [
    {
     "data": {
      "text/html": [
       "<div>\n",
       "<style scoped>\n",
       "    .dataframe tbody tr th:only-of-type {\n",
       "        vertical-align: middle;\n",
       "    }\n",
       "\n",
       "    .dataframe tbody tr th {\n",
       "        vertical-align: top;\n",
       "    }\n",
       "\n",
       "    .dataframe thead th {\n",
       "        text-align: right;\n",
       "    }\n",
       "</style>\n",
       "<table border=\"1\" class=\"dataframe\">\n",
       "  <thead>\n",
       "    <tr style=\"text-align: right;\">\n",
       "      <th></th>\n",
       "      <th>sepal length (cm)</th>\n",
       "      <th>sepal width (cm)</th>\n",
       "      <th>petal length (cm)</th>\n",
       "      <th>petal width (cm)</th>\n",
       "      <th>target</th>\n",
       "    </tr>\n",
       "  </thead>\n",
       "  <tbody>\n",
       "    <tr>\n",
       "      <th>0</th>\n",
       "      <td>5.1</td>\n",
       "      <td>3.5</td>\n",
       "      <td>1.4</td>\n",
       "      <td>0.2</td>\n",
       "      <td>0</td>\n",
       "    </tr>\n",
       "    <tr>\n",
       "      <th>1</th>\n",
       "      <td>4.9</td>\n",
       "      <td>3.0</td>\n",
       "      <td>1.4</td>\n",
       "      <td>0.2</td>\n",
       "      <td>0</td>\n",
       "    </tr>\n",
       "    <tr>\n",
       "      <th>2</th>\n",
       "      <td>4.7</td>\n",
       "      <td>3.2</td>\n",
       "      <td>1.3</td>\n",
       "      <td>0.2</td>\n",
       "      <td>0</td>\n",
       "    </tr>\n",
       "    <tr>\n",
       "      <th>3</th>\n",
       "      <td>4.6</td>\n",
       "      <td>3.1</td>\n",
       "      <td>1.5</td>\n",
       "      <td>0.2</td>\n",
       "      <td>0</td>\n",
       "    </tr>\n",
       "    <tr>\n",
       "      <th>4</th>\n",
       "      <td>5.0</td>\n",
       "      <td>3.6</td>\n",
       "      <td>1.4</td>\n",
       "      <td>0.2</td>\n",
       "      <td>0</td>\n",
       "    </tr>\n",
       "  </tbody>\n",
       "</table>\n",
       "</div>"
      ],
      "text/plain": [
       "   sepal length (cm)  sepal width (cm)  petal length (cm)  petal width (cm)  \\\n",
       "0                5.1               3.5                1.4               0.2   \n",
       "1                4.9               3.0                1.4               0.2   \n",
       "2                4.7               3.2                1.3               0.2   \n",
       "3                4.6               3.1                1.5               0.2   \n",
       "4                5.0               3.6                1.4               0.2   \n",
       "\n",
       "   target  \n",
       "0       0  \n",
       "1       0  \n",
       "2       0  \n",
       "3       0  \n",
       "4       0  "
      ]
     },
     "execution_count": 4,
     "metadata": {},
     "output_type": "execute_result"
    }
   ],
   "source": [
    "df=pd.DataFrame(data=ds.data,columns=ds.feature_names)\n",
    "df['target']=ds.target\n",
    "df.head()"
   ]
  },
  {
   "cell_type": "code",
   "execution_count": 5,
   "id": "b71cf339",
   "metadata": {},
   "outputs": [],
   "source": [
    "x=df.iloc[:,:-1]\n",
    "y=df.iloc[:,-1]"
   ]
  },
  {
   "cell_type": "code",
   "execution_count": 6,
   "id": "83337356",
   "metadata": {},
   "outputs": [],
   "source": [
    "train_x,test_x,train_y,test_y=train_test_split(x,y,test_size=20,random_state=42)"
   ]
  },
  {
   "cell_type": "markdown",
   "id": "02327111",
   "metadata": {},
   "source": [
    "## Ensemble Technique (Bagging)"
   ]
  },
  {
   "cell_type": "code",
   "execution_count": 7,
   "id": "e7e4d0b7",
   "metadata": {},
   "outputs": [
    {
     "name": "stdout",
     "output_type": "stream",
     "text": [
      "Training Score:  1.0\n",
      "Accuracy Score 1.0\n",
      "\n",
      "Classification Report:                precision    recall  f1-score   support\n",
      "\n",
      "           0       1.00      1.00      1.00         6\n",
      "           1       1.00      1.00      1.00         9\n",
      "           2       1.00      1.00      1.00         5\n",
      "\n",
      "    accuracy                           1.00        20\n",
      "   macro avg       1.00      1.00      1.00        20\n",
      "weighted avg       1.00      1.00      1.00        20\n",
      "\n",
      "\n",
      "Confusion_Matrix:\n",
      " [[6 0 0]\n",
      " [0 9 0]\n",
      " [0 0 5]]\n"
     ]
    }
   ],
   "source": [
    "# RANDOM FOREST CLASSIFIER\n",
    "\n",
    "rf=RandomForestClassifier(n_estimators=100,random_state=43)\n",
    "rf.fit(train_x,train_y)\n",
    "print(\"Training Score: \",rf.score(train_x,train_y))\n",
    "pred_rf=rf.predict(test_x)\n",
    "\n",
    "print(\"Accuracy Score\",accuracy_score(test_y,pred_rf))\n",
    "print(\"\\nClassification Report: \",classification_report(test_y,pred_rf))\n",
    "print(\"\\nConfusion_Matrix:\\n\",confusion_matrix(test_y,pred_rf))"
   ]
  },
  {
   "cell_type": "markdown",
   "id": "6e4af3c2",
   "metadata": {},
   "source": [
    "## Bagging Model (Extra Trees Classifier)"
   ]
  },
  {
   "cell_type": "code",
   "execution_count": 8,
   "id": "5c623fb7",
   "metadata": {},
   "outputs": [
    {
     "name": "stdout",
     "output_type": "stream",
     "text": [
      "TRaining Score:  1.0\n",
      "Accuracy Score 1.0\n",
      "\n",
      "Classification Report:                precision    recall  f1-score   support\n",
      "\n",
      "           0       1.00      1.00      1.00         6\n",
      "           1       1.00      1.00      1.00         9\n",
      "           2       1.00      1.00      1.00         5\n",
      "\n",
      "    accuracy                           1.00        20\n",
      "   macro avg       1.00      1.00      1.00        20\n",
      "weighted avg       1.00      1.00      1.00        20\n",
      "\n",
      "\n",
      "Confusion_Matrix:\n",
      " [[6 0 0]\n",
      " [0 9 0]\n",
      " [0 0 5]]\n"
     ]
    }
   ],
   "source": [
    "# EXTRA TREES CLASSIFIER\n",
    "\n",
    "et=ExtraTreesClassifier(n_estimators=100, random_state=43)\n",
    "et.fit(train_x,train_y)\n",
    "print(\"TRaining Score: \",et.score(train_x,train_y))\n",
    "pred_et=et.predict(test_x)\n",
    "\n",
    "# print metrics\n",
    "\n",
    "print(\"Accuracy Score\",accuracy_score(test_y,pred_et))\n",
    "print(\"\\nClassification Report: \",classification_report(test_y,pred_et))\n",
    "print(\"\\nConfusion_Matrix:\\n\",confusion_matrix(test_y,pred_et))"
   ]
  },
  {
   "cell_type": "markdown",
   "id": "cd5ce5dd",
   "metadata": {},
   "source": [
    "## Boosting (Ada Boost)"
   ]
  },
  {
   "cell_type": "code",
   "execution_count": 9,
   "id": "8777e6d8",
   "metadata": {},
   "outputs": [
    {
     "name": "stdout",
     "output_type": "stream",
     "text": [
      "Training Score:  0.9538461538461539\n",
      "Mertics\n",
      "Testing Accuracy Score 1.0\n",
      "\n",
      "Classification Report:                precision    recall  f1-score   support\n",
      "\n",
      "           0       1.00      1.00      1.00         6\n",
      "           1       1.00      1.00      1.00         9\n",
      "           2       1.00      1.00      1.00         5\n",
      "\n",
      "    accuracy                           1.00        20\n",
      "   macro avg       1.00      1.00      1.00        20\n",
      "weighted avg       1.00      1.00      1.00        20\n",
      "\n",
      "\n",
      "Confusion_Matrix:\n",
      " [[6 0 0]\n",
      " [0 9 0]\n",
      " [0 0 5]]\n"
     ]
    }
   ],
   "source": [
    "ada=AdaBoostClassifier(n_estimators=50)\n",
    "ada.fit(train_x,train_y)\n",
    "print(\"Training Score: \",ada.score(train_x,train_y))\n",
    "pred_ada=ada.predict(test_x)\n",
    "print(\"Mertics\")\n",
    "\n",
    "print(\"Testing Accuracy Score\",accuracy_score(test_y,pred_ada))\n",
    "print(\"\\nClassification Report: \",classification_report(test_y,pred_ada))\n",
    "print(\"\\nConfusion_Matrix:\\n\",confusion_matrix(test_y,pred_ada))"
   ]
  },
  {
   "cell_type": "markdown",
   "id": "1a73894c",
   "metadata": {},
   "source": [
    "# We can check if the SVC works as the base estimiter"
   ]
  },
  {
   "cell_type": "markdown",
   "id": "b8596180",
   "metadata": {},
   "source": [
    "### Try 1"
   ]
  },
  {
   "cell_type": "code",
   "execution_count": 10,
   "id": "9d1b95ef",
   "metadata": {},
   "outputs": [
    {
     "name": "stdout",
     "output_type": "stream",
     "text": [
      "Training Score:  0.34615384615384615\n",
      "Mertics\n",
      "Testing Accuracy Score 0.25\n",
      "\n",
      "Classification Report:                precision    recall  f1-score   support\n",
      "\n",
      "           0       0.00      0.00      0.00         6\n",
      "           1       0.00      0.00      0.00         9\n",
      "           2       0.25      1.00      0.40         5\n",
      "\n",
      "    accuracy                           0.25        20\n",
      "   macro avg       0.08      0.33      0.13        20\n",
      "weighted avg       0.06      0.25      0.10        20\n",
      "\n",
      "\n",
      "Confusion_Matrix:\n",
      " [[0 0 6]\n",
      " [0 0 9]\n",
      " [0 0 5]]\n"
     ]
    }
   ],
   "source": [
    "from sklearn.svm import SVC\n",
    "svc=SVC()# on default parameter its working worse\n",
    "\n",
    "# create ada boost classifier object\n",
    "ada=AdaBoostClassifier(base_estimator=svc,algorithm='SAMME')# By default it is SAMME.R \n",
    "ada.fit(train_x,train_y)\n",
    "print(\"Training Score: \",ada.score(train_x,train_y))\n",
    "pred_ada=ada.predict(test_x)\n",
    "print(\"Mertics\")\n",
    "\n",
    "print(\"Testing Accuracy Score\",accuracy_score(test_y,pred_ada))\n",
    "print(\"\\nClassification Report: \",classification_report(test_y,pred_ada))\n",
    "print(\"\\nConfusion_Matrix:\\n\",confusion_matrix(test_y,pred_ada))"
   ]
  },
  {
   "cell_type": "code",
   "execution_count": 11,
   "id": "5b7cf056",
   "metadata": {},
   "outputs": [
    {
     "name": "stdout",
     "output_type": "stream",
     "text": [
      "Training Score:  0.9230769230769231\n",
      "Mertics\n",
      "Testing Accuracy Score 1.0\n",
      "\n",
      "Classification Report:\n",
      "               precision    recall  f1-score   support\n",
      "\n",
      "           0       1.00      1.00      1.00         6\n",
      "           1       1.00      1.00      1.00         9\n",
      "           2       1.00      1.00      1.00         5\n",
      "\n",
      "    accuracy                           1.00        20\n",
      "   macro avg       1.00      1.00      1.00        20\n",
      "weighted avg       1.00      1.00      1.00        20\n",
      "\n",
      "\n",
      "Confusion_Matrix:\n",
      " [[6 0 0]\n",
      " [0 9 0]\n",
      " [0 0 5]]\n"
     ]
    }
   ],
   "source": [
    "from sklearn.svm import SVC\n",
    "svc=SVC(probability=True,kernel='poly') # in changes model is working well\n",
    "\n",
    "# create ada boost classifier object\n",
    "ada=AdaBoostClassifier(base_estimator=svc,algorithm='SAMME')# By default it is SAMME.R \n",
    "ada.fit(train_x,train_y)\n",
    "print(\"Training Score: \",ada.score(train_x,train_y))\n",
    "pred_ada=ada.predict(test_x)\n",
    "print(\"Mertics\")\n",
    "\n",
    "print(\"Testing Accuracy Score\",accuracy_score(test_y,pred_ada))\n",
    "print(\"\\nClassification Report:\\n\",classification_report(test_y,pred_ada))\n",
    "print(\"\\nConfusion_Matrix:\\n\",confusion_matrix(test_y,pred_ada))"
   ]
  },
  {
   "cell_type": "code",
   "execution_count": 12,
   "id": "63a23cdb",
   "metadata": {},
   "outputs": [
    {
     "name": "stdout",
     "output_type": "stream",
     "text": [
      "Training Score:  1.0\n",
      "Mertics\n",
      "Testing Accuracy Score 1.0\n",
      "\n",
      "Classification Report:\n",
      "               precision    recall  f1-score   support\n",
      "\n",
      "           0       1.00      1.00      1.00         6\n",
      "           1       1.00      1.00      1.00         9\n",
      "           2       1.00      1.00      1.00         5\n",
      "\n",
      "    accuracy                           1.00        20\n",
      "   macro avg       1.00      1.00      1.00        20\n",
      "weighted avg       1.00      1.00      1.00        20\n",
      "\n",
      "\n",
      "Confusion_Matrix:\n",
      " [[6 0 0]\n",
      " [0 9 0]\n",
      " [0 0 5]]\n"
     ]
    }
   ],
   "source": [
    "from sklearn.ensemble import GradientBoostingClassifier\n",
    "\n",
    "gb=GradientBoostingClassifier()\n",
    "gb.fit(train_x,train_y)\n",
    "print(\"Training Score: \",gb.score(train_x,train_y))\n",
    "pred_gb=gb.predict(test_x)\n",
    "print(\"Mertics\")\n",
    "\n",
    "print(\"Testing Accuracy Score\",accuracy_score(test_y,pred_gb))\n",
    "print(\"\\nClassification Report:\\n\",classification_report(test_y,pred_gb))\n",
    "print(\"\\nConfusion_Matrix:\\n\",confusion_matrix(test_y,pred_gb))"
   ]
  },
  {
   "cell_type": "markdown",
   "id": "57d53e27",
   "metadata": {},
   "source": [
    "# Voting Classifer:(Hetrogenious)\n",
    "\n",
    "\n",
    "\n",
    "### Two Type:\n",
    "\n",
    "#### Hard Voting\n",
    "#### Soft Voting\n"
   ]
  },
  {
   "cell_type": "code",
   "execution_count": 14,
   "id": "08aa784a",
   "metadata": {},
   "outputs": [
    {
     "data": {
      "text/plain": [
       "[('LR', KNeighborsClassifier()),\n",
       " ('SVC', SVC()),\n",
       " ('DTC', DecisionTreeClassifier())]"
      ]
     },
     "execution_count": 14,
     "metadata": {},
     "output_type": "execute_result"
    }
   ],
   "source": [
    "from sklearn.tree import DecisionTreeClassifier\n",
    "from sklearn.neighbors import KNeighborsClassifier\n",
    "from sklearn.naive_bayes import MultinomialNB\n",
    "\n",
    "\n",
    "\n",
    "from sklearn.ensemble import VotingClassifier\n",
    "\n",
    "estimator=[]\n",
    "estimator.append(('LR',KNeighborsClassifier()))\n",
    "estimator.append(('SVC',SVC()))\n",
    "estimator.append(('DTC',DecisionTreeClassifier()))\n",
    "# lets see estimator\n",
    "estimator"
   ]
  },
  {
   "cell_type": "markdown",
   "id": "34af3e3a",
   "metadata": {},
   "source": [
    "## Hard Voting is based on Votes"
   ]
  },
  {
   "cell_type": "code",
   "execution_count": 24,
   "id": "77579e66",
   "metadata": {},
   "outputs": [
    {
     "name": "stdout",
     "output_type": "stream",
     "text": [
      "Score:  0.9769230769230769\n",
      "[1 0 2 1 1 0 1 2 1 1 2 0 0 0 0 1 2 1 1 2]\n",
      "Acc: 1.0\n",
      "Con\n",
      " [[6 0 0]\n",
      " [0 9 0]\n",
      " [0 0 5]]\n",
      "Classification_Report\n",
      "               precision    recall  f1-score   support\n",
      "\n",
      "           0       1.00      1.00      1.00         6\n",
      "           1       1.00      1.00      1.00         9\n",
      "           2       1.00      1.00      1.00         5\n",
      "\n",
      "    accuracy                           1.00        20\n",
      "   macro avg       1.00      1.00      1.00        20\n",
      "weighted avg       1.00      1.00      1.00        20\n",
      "\n"
     ]
    }
   ],
   "source": [
    "estimator=[]\n",
    "estimator.append(('LR',KNeighborsClassifier()))\n",
    "estimator.append(('SVC',SVC(probability=True)))\n",
    "estimator.append(('DTC',DecisionTreeClassifier()))\n",
    "# lets see estimator\n",
    "estimator\n",
    "\n",
    "vc_hard=VotingClassifier(estimators=estimator,voting=\"hard\")\n",
    "vc_hard.fit(train_x,train_y)\n",
    "print(\"Score: \",vc_hard.score(train_x,train_y))\n",
    "pred_y=vc_hard.predict(test_x)\n",
    "print(pred_y)\n",
    "print(\"Acc:\",accuracy_score(test_y,pred_y))\n",
    "print(\"Con\\n\",confusion_matrix(test_y,pred_y))\n",
    "print(\"Classification_Report\\n\",classification_report(test_y,pred_y))"
   ]
  },
  {
   "cell_type": "markdown",
   "id": "4235a01b",
   "metadata": {},
   "source": [
    "##  Soft voting (IT is Based on probability)"
   ]
  },
  {
   "cell_type": "code",
   "execution_count": 27,
   "id": "b6b24bca",
   "metadata": {},
   "outputs": [
    {
     "name": "stdout",
     "output_type": "stream",
     "text": [
      "Score  0.9923076923076923\n",
      "Accuracy:  1.0\n",
      "classification report\n",
      "               precision    recall  f1-score   support\n",
      "\n",
      "           0       1.00      1.00      1.00         6\n",
      "           1       1.00      1.00      1.00         9\n",
      "           2       1.00      1.00      1.00         5\n",
      "\n",
      "    accuracy                           1.00        20\n",
      "   macro avg       1.00      1.00      1.00        20\n",
      "weighted avg       1.00      1.00      1.00        20\n",
      "\n",
      "Confusion_matrix\n",
      "  [[6 0 0]\n",
      " [0 9 0]\n",
      " [0 0 5]]\n"
     ]
    }
   ],
   "source": [
    "vc_soft=VotingClassifier(estimators=estimator,voting=\"soft\")\n",
    "vc_soft.fit(train_x,train_y)\n",
    "print(\"Score \",vc_soft.score(train_x,train_y))\n",
    "pred_vc=vc_soft.predict(test_x)\n",
    "\n",
    "print(\"Accuracy: \",accuracy_score(test_y,pred_vc))\n",
    "print(\"classification report\\n\",classification_report(test_y,pred_vc))\n",
    "print(\"Confusion_matrix\\n \",confusion_matrix(test_y,pred_vc))"
   ]
  },
  {
   "cell_type": "code",
   "execution_count": null,
   "id": "427f6c47",
   "metadata": {},
   "outputs": [],
   "source": []
  }
 ],
 "metadata": {
  "kernelspec": {
   "display_name": "Python 3 (ipykernel)",
   "language": "python",
   "name": "python3"
  },
  "language_info": {
   "codemirror_mode": {
    "name": "ipython",
    "version": 3
   },
   "file_extension": ".py",
   "mimetype": "text/x-python",
   "name": "python",
   "nbconvert_exporter": "python",
   "pygments_lexer": "ipython3",
   "version": "3.11.4"
  }
 },
 "nbformat": 4,
 "nbformat_minor": 5
}
